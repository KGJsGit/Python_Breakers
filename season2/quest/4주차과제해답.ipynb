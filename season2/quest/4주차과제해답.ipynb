{
 "cells": [
  {
   "cell_type": "code",
   "execution_count": 2,
   "metadata": {},
   "outputs": [
    {
     "name": "stdout",
     "output_type": "stream",
     "text": [
      "[7, 9, 14, 31, 34, 43]\n"
     ]
    }
   ],
   "source": [
    "import random\n",
    "\n",
    "def lotto() :\n",
    "    elements = random.sample(range(1, 46), 6)\n",
    "    elements.sort()\n",
    "    return elements\n",
    "\n",
    "print(lotto())"
   ]
  },
  {
   "cell_type": "code",
   "execution_count": 12,
   "metadata": {},
   "outputs": [
    {
     "name": "stdin",
     "output_type": "stream",
     "text": [
      "문자열을 입력하세요 :  51351aegjlb@&@%\n"
     ]
    },
    {
     "name": "stdout",
     "output_type": "stream",
     "text": [
      "문자의 개수 : 15\n",
      "가장 큰 문자열 : l\n",
      "뒤집은 문자열 : %@&@bljgea15315\n"
     ]
    }
   ],
   "source": [
    "def stringAnal() :\n",
    "    targetString = str(input(\"문자열을 입력하세요 : \"))\n",
    "    print(\"문자의 개수 :\", len(targetString))\n",
    "    try :\n",
    "        print(\"가장 큰 문자열 :\", max(targetString))\n",
    "    except :\n",
    "        print(\"가장 큰 문자열 : 형식이 잘 못되었습니다.\")\n",
    "    print(\"뒤집은 문자열 :\", targetString[::-1])\n",
    "stringAnal()"
   ]
  },
  {
   "cell_type": "code",
   "execution_count": 26,
   "metadata": {},
   "outputs": [
    {
     "name": "stdout",
     "output_type": "stream",
     "text": [
      "현재 : 2020년09월22일 22시41분08초\n",
      "미래 : 2020년11월10일 23시49분15초\n"
     ]
    }
   ],
   "source": [
    "import datetime\n",
    "\n",
    "def timer() :\n",
    "    present = datetime.datetime.now()\n",
    "    print(\"현재 :\", present.strftime(\"%Y년%m월%d일 %H시%M분%S초\".encode('unicode-escape').decode()).encode().decode('unicode-escape'))\n",
    "    future = present + datetime.timedelta(days=49, hours=1, minutes=8, seconds=7)\n",
    "    print(\"미래 :\", future.strftime(\"%Y년%m월%d일 %H시%M분%S초\".encode('unicode-escape').decode()).encode().decode('unicode-escape'))\n",
    "timer()"
   ]
  }
 ],
 "metadata": {
  "kernelspec": {
   "display_name": "Python 3",
   "language": "python",
   "name": "python3"
  },
  "language_info": {
   "codemirror_mode": {
    "name": "ipython",
    "version": 3
   },
   "file_extension": ".py",
   "mimetype": "text/x-python",
   "name": "python",
   "nbconvert_exporter": "python",
   "pygments_lexer": "ipython3",
   "version": "3.7.6"
  }
 },
 "nbformat": 4,
 "nbformat_minor": 4
}
