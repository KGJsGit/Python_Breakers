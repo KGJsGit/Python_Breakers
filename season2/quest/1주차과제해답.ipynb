{
 "cells": [
  {
   "cell_type": "code",
   "execution_count": 57,
   "metadata": {},
   "outputs": [],
   "source": [
    "import math\n",
    "import cmath\n",
    "# 답안파일"
   ]
  },
  {
   "cell_type": "markdown",
   "metadata": {},
   "source": [
    "# 변수"
   ]
  },
  {
   "cell_type": "code",
   "execution_count": 3,
   "metadata": {},
   "outputs": [
    {
     "name": "stdout",
     "output_type": "stream",
     "text": [
      "평균 = 53.333333333333336\n"
     ]
    }
   ],
   "source": [
    "국어 = 50\n",
    "수학 = 80\n",
    "영어 = 30\n",
    "print(\"평균 =\", (국어+수학+영어)/3)"
   ]
  },
  {
   "cell_type": "code",
   "execution_count": 5,
   "metadata": {},
   "outputs": [
    {
     "name": "stdout",
     "output_type": "stream",
     "text": [
      "409298570 : 짝수\n"
     ]
    }
   ],
   "source": [
    "num1 = 409298570\n",
    "if num1 % 2 == 0 :\n",
    "    print(num1,\": 짝수\")\n",
    "else :\n",
    "    print(num1,\": 홀수\")"
   ]
  },
  {
   "cell_type": "code",
   "execution_count": 13,
   "metadata": {},
   "outputs": [
    {
     "name": "stdout",
     "output_type": "stream",
     "text": [
      "국어, 수학, 영어, 프로그래밍\n"
     ]
    }
   ],
   "source": [
    "str = \"국어:수학:영어:프로그래밍\"\n",
    "str = str.replace(\":\",\", \")\n",
    "print(str)"
   ]
  },
  {
   "cell_type": "code",
   "execution_count": 16,
   "metadata": {},
   "outputs": [
    {
     "name": "stdout",
     "output_type": "stream",
     "text": [
      "파이썬은 정말 편하다\n"
     ]
    }
   ],
   "source": [
    "list = [\"파이썬은\", \"정말\", \"편하다\"]\n",
    "str = \" \".join(list)\n",
    "print(str)"
   ]
  },
  {
   "cell_type": "code",
   "execution_count": 32,
   "metadata": {},
   "outputs": [
    {
     "name": "stdout",
     "output_type": "stream",
     "text": [
      "[1, 3, 4, 5, 10, 50, 410]\n",
      "[1, 3, 4, 5, 10, 50, 410]\n",
      "None\n"
     ]
    }
   ],
   "source": [
    "list1 = [1, 50, 410, 10, 3, 4, 5]\n",
    "list1 = sorted(list1)\n",
    "print(list1)\n",
    "\n",
    "list2 = [1, 50, 410, 10, 3, 4, 5]\n",
    "list2.sort()\n",
    "print(list2)\n",
    "\n",
    "list3 = [1, 50, 410, 10, 3, 4, 5]\n",
    "list3 = list3.sort()\n",
    "print(list3)"
   ]
  },
  {
   "cell_type": "code",
   "execution_count": 33,
   "metadata": {},
   "outputs": [
    {
     "name": "stdout",
     "output_type": "stream",
     "text": [
      "I love python\n"
     ]
    }
   ],
   "source": [
    "str = \" I love python \"\n",
    "str = str.strip()\n",
    "print(str)"
   ]
  },
  {
   "cell_type": "markdown",
   "metadata": {},
   "source": [
    "# 제어문"
   ]
  },
  {
   "cell_type": "code",
   "execution_count": 35,
   "metadata": {},
   "outputs": [
    {
     "name": "stdout",
     "output_type": "stream",
     "text": [
      "5050\n"
     ]
    }
   ],
   "source": [
    "sum1= 0\n",
    "for i in range(1, 101) :\n",
    "    sum1 += i\n",
    "print(sum1)"
   ]
  },
  {
   "cell_type": "code",
   "execution_count": 36,
   "metadata": {},
   "outputs": [
    {
     "name": "stdout",
     "output_type": "stream",
     "text": [
      "5050\n"
     ]
    }
   ],
   "source": [
    "sum2 = 0\n",
    "i = 1\n",
    "while i < 101 :\n",
    "    sum2 += i\n",
    "    i += 1\n",
    "print(sum2)"
   ]
  },
  {
   "cell_type": "code",
   "execution_count": 37,
   "metadata": {},
   "outputs": [
    {
     "name": "stdout",
     "output_type": "stream",
     "text": [
      "1683\n"
     ]
    }
   ],
   "source": [
    "sum3 = 0\n",
    "for i in range(1, 101) :\n",
    "    if i % 3 == 0 :\n",
    "        sum3 += i\n",
    "print(sum3)"
   ]
  },
  {
   "cell_type": "code",
   "execution_count": 43,
   "metadata": {},
   "outputs": [
    {
     "name": "stdout",
     "output_type": "stream",
     "text": [
      "79.00\n"
     ]
    }
   ],
   "source": [
    "list1 = [70, 60, 55, 75, 95, 90, 80, 80, 85, 100]\n",
    "sum = 0\n",
    "for i in list1 :\n",
    "    sum += i\n",
    "print(\"%.2f\" %(sum/len(list1)))"
   ]
  },
  {
   "cell_type": "code",
   "execution_count": 45,
   "metadata": {},
   "outputs": [
    {
     "name": "stdout",
     "output_type": "stream",
     "text": [
      "[2, 6, 10, 40, 90, 100, 2020]\n"
     ]
    }
   ],
   "source": [
    "list2 = [1, 3, 5, 40, 90, 100, 2020]\n",
    "for i in range(len(list2)) :\n",
    "    if list2[i] % 2 == 1 :\n",
    "        list2[i] *= 2\n",
    "print(list2)"
   ]
  },
  {
   "cell_type": "code",
   "execution_count": 46,
   "metadata": {},
   "outputs": [
    {
     "name": "stdout",
     "output_type": "stream",
     "text": [
      "*\n",
      "**\n",
      "***\n",
      "****\n",
      "*****\n"
     ]
    }
   ],
   "source": [
    "for i in range(5) :\n",
    "    for j in range(i + 1) :\n",
    "        print('*', end = '')\n",
    "    print()"
   ]
  },
  {
   "cell_type": "markdown",
   "metadata": {},
   "source": [
    "# 함수와 입출력"
   ]
  },
  {
   "cell_type": "code",
   "execution_count": 67,
   "metadata": {},
   "outputs": [
    {
     "name": "stdin",
     "output_type": "stream",
     "text": [
      "점수 입력 :  95\n"
     ]
    },
    {
     "name": "stdout",
     "output_type": "stream",
     "text": [
      "A\n"
     ]
    }
   ],
   "source": [
    "def gradeResult() :\n",
    "    score = int(input('점수 입력 : '))\n",
    "    if score <= 100 and score >= 80 :\n",
    "        print(\"A\")\n",
    "    elif score < 80 and score >= 50 :\n",
    "        print(\"B\")\n",
    "    elif score < 50 and score >= 30 :\n",
    "        print(\"C\")\n",
    "    elif score < 30 and score >= 0 :\n",
    "        print(\"F\")\n",
    "    else :\n",
    "        print(\"잘못 입력하셨습니다.\")\n",
    "        \n",
    "gradeResult()"
   ]
  },
  {
   "cell_type": "code",
   "execution_count": 68,
   "metadata": {},
   "outputs": [
    {
     "name": "stdin",
     "output_type": "stream",
     "text": [
      "숫자 입력 :  5\n"
     ]
    },
    {
     "name": "stdout",
     "output_type": "stream",
     "text": [
      "False\n"
     ]
    }
   ],
   "source": [
    "def evenResult() :\n",
    "    num = int(input('숫자 입력 : '))\n",
    "    if num % 2 == 0 :\n",
    "        return True\n",
    "    else :\n",
    "        return False\n",
    "    \n",
    "print(evenResult())"
   ]
  },
  {
   "cell_type": "code",
   "execution_count": 69,
   "metadata": {},
   "outputs": [
    {
     "name": "stdin",
     "output_type": "stream",
     "text": [
      "주민등록번호 입력 :  970710-1\n"
     ]
    },
    {
     "name": "stdout",
     "output_type": "stream",
     "text": [
      "97년생, 남자\n"
     ]
    }
   ],
   "source": [
    "def personalNum() :\n",
    "    pNum = input('주민등록번호 입력 : ')\n",
    "    if(len(pNum) < 14) :\n",
    "        pass\n",
    "    print(pNum[:2], end='년생, ')\n",
    "    if(pNum[7] == '1') :\n",
    "        print(\"남자\")\n",
    "    elif(pNum[7] == '2') :\n",
    "        print(\"여자\")\n",
    "    else :\n",
    "        print(\"알 수 없음\")\n",
    "        \n",
    "personalNum()"
   ]
  },
  {
   "cell_type": "code",
   "execution_count": 70,
   "metadata": {},
   "outputs": [
    {
     "name": "stdin",
     "output_type": "stream",
     "text": [
      "숫자 입력 :  35\n",
      "부호 입력 :  +\n",
      "숫자 입력 :  4\n"
     ]
    },
    {
     "name": "stdout",
     "output_type": "stream",
     "text": [
      "39\n"
     ]
    }
   ],
   "source": [
    "def calcFunction() :\n",
    "    num1 = int(input('숫자 입력 : '))\n",
    "    sign = input('부호 입력 : ')\n",
    "    num2 = int(input('숫자 입력 : '))\n",
    "    \n",
    "    if sign == '+' :\n",
    "        print(num1 + num2)\n",
    "    elif sign == '-' :\n",
    "        print(num1 - num2)\n",
    "    elif sign == '*' :\n",
    "        print(num1 * num2)\n",
    "    elif sign == '/' :\n",
    "        if(num2 == 0) :\n",
    "            print(\"0으로는 나눌 수 없습니다.\")\n",
    "        print(num1 / num2)\n",
    "    elif sign == '%' :\n",
    "        if(num2 == 0) :\n",
    "            print(\"0으로는 나눌 수 없습니다.\")\n",
    "        print(num1 % num2)\n",
    "    else : \n",
    "        print(\"잘못 입력하셨습니다\")\n",
    "        \n",
    "calcFunction()"
   ]
  },
  {
   "cell_type": "code",
   "execution_count": 72,
   "metadata": {},
   "outputs": [
    {
     "name": "stdin",
     "output_type": "stream",
     "text": [
      "숫자 입력 :  6890\n"
     ]
    },
    {
     "name": "stdout",
     "output_type": "stream",
     "text": [
      "5000원 : 1개\n",
      "1000원 : 1개\n",
      "500원 : 1개\n",
      "100원 : 3개\n",
      "50원 : 1개\n",
      "10원 : 4개\n"
     ]
    }
   ],
   "source": [
    "def changeFunction() :\n",
    "    money = int(input('숫자 입력 : '))\n",
    "    list = [5000, 1000, 500, 100, 50, 10]\n",
    "    for i in range(0,len(list)) :\n",
    "        print(\"%d원 : %d개\" %(list[i], money / list[i]))\n",
    "        money = money % list[i]\n",
    "        \n",
    "changeFunction()"
   ]
  },
  {
   "cell_type": "code",
   "execution_count": 77,
   "metadata": {},
   "outputs": [
    {
     "name": "stdin",
     "output_type": "stream",
     "text": [
      "이차방정식 입력 :  1x^2+6x-27\n"
     ]
    },
    {
     "name": "stdout",
     "output_type": "stream",
     "text": [
      "x1 = 3.000000, x2 = -9.000000\n"
     ]
    }
   ],
   "source": [
    "def equationResult() :\n",
    "    equation = input('이차방정식 입력 : ')\n",
    "    a = float(equation.split(\"x^2\")[0])\n",
    "    b = float(equation.split(\"x^2\")[1].split(\"x\")[0])\n",
    "    c = float(equation.split(\"x^2\")[1].split(\"x\")[1])\n",
    "    disc = (b * b) - (4 * a * c)\n",
    "    if disc < 0 :\n",
    "        x1 = (- b + cmath.sqrt(disc)) / (2 * a)\n",
    "        x2 = (- b - cmath.sqrt(disc)) / (2 * a)\n",
    "    else :\n",
    "        x1 = (- b + math.sqrt(disc)) / (2 * a)\n",
    "        x2 = (- b - math.sqrt(disc)) / (2 * a)\n",
    "    print(\"x1 = %f, x2 = %f\" %(x1, x2))\n",
    "    \n",
    "equationResult()"
   ]
  }
 ],
 "metadata": {
  "kernelspec": {
   "display_name": "Python 3",
   "language": "python",
   "name": "python3"
  },
  "language_info": {
   "codemirror_mode": {
    "name": "ipython",
    "version": 3
   },
   "file_extension": ".py",
   "mimetype": "text/x-python",
   "name": "python",
   "nbconvert_exporter": "python",
   "pygments_lexer": "ipython3",
   "version": "3.7.4"
  }
 },
 "nbformat": 4,
 "nbformat_minor": 4
}
